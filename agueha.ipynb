{
 "cells": [
  {
   "cell_type": "markdown",
   "metadata": {},
   "source": [
    "# 아구에하 식약청 자료"
   ]
  },
  {
   "cell_type": "markdown",
   "metadata": {},
   "source": [
    "<br>\n",
    "* 국민건강영양조사 데이터로 조사대상이 먹은 식품과 양, 영양소 등 정보가 들어있다.\n",
    "* 2014,2015,2016년 자료를 합하여 과채가공품류를 먹은 모든 데이터를 찾아 연령별, 성별 평균을 구할 것이다."
   ]
  },
  {
   "cell_type": "code",
   "execution_count": 1,
   "metadata": {
    "collapsed": true
   },
   "outputs": [],
   "source": [
    "import pandas as pd\n",
    "import numpy as np"
   ]
  },
  {
   "cell_type": "markdown",
   "metadata": {},
   "source": [
    "먼저 3년 간의 자료를 한 데이터프레임으로 합친다."
   ]
  },
  {
   "cell_type": "code",
   "execution_count": 2,
   "metadata": {
    "collapsed": true
   },
   "outputs": [],
   "source": [
    "fourteen_data=pd.read_csv('2014.csv')"
   ]
  },
  {
   "cell_type": "code",
   "execution_count": 3,
   "metadata": {
    "collapsed": true
   },
   "outputs": [],
   "source": [
    "fifteen_data=pd.read_csv('2015.csv')"
   ]
  },
  {
   "cell_type": "code",
   "execution_count": 4,
   "metadata": {
    "collapsed": true
   },
   "outputs": [],
   "source": [
    "sixteen_data=pd.read_csv('2016.csv')"
   ]
  },
  {
   "cell_type": "code",
   "execution_count": 5,
   "metadata": {
    "collapsed": true
   },
   "outputs": [],
   "source": [
    "food_data=pd.concat([fourteen_data,fifteen_data,sixteen_data])"
   ]
  },
  {
   "cell_type": "markdown",
   "metadata": {},
   "source": [
    "과채가공품에 해당되는 식품코드 전부를 엑셀파일로부터 복사하였다.\n",
    "불필요한 문자가 섞여있어 split을 통해 list로 저장하였다."
   ]
  },
  {
   "cell_type": "code",
   "execution_count": 6,
   "metadata": {
    "collapsed": true
   },
   "outputs": [],
   "source": [
    "food_code='5004\t5005\t5006\t3033\t3034\t3035\t8009\t8017\t8002\t8038\t50321\t50322\t51132\t51283\t8082\t8086\t8100\t61180\t8107\t8167\t5047\t6037\t6273\t6289\t6312\t6311\t6370\t6381\t27041\t50302\t50304\t50308\t50309\t50310\t50359\t61179\t6384\t7036\t7019\t7026\t7027\t7048\t51280\t8182\t50353\t50354\t50355\t50356\t8023\t8026\t8027\t8040\t8041\t8043\t8050\t8051\t8062\t8070\t8071\t8190\t8068\t8075\t8083\t8084\t21011\t8081\t8087\t8089\t8099\t8094\t8095\t8096\t8097\t8106\t50329\t8126\t8122\t27040\t27078\t27095\t50313\t50315\t50317\t50318\t50326\t50327\t50330\t50332\t50335\t50337\t50339\t50349\t50358\t50360\t50363\t51284\t61181\t8129\t8130\t8128\t8134\t8142\t8150\t51131\t8145\t8146\t50319\t8152\t8153\t8154\t29054\t50328\t8165\t8161\t8162\t8209\t27042\t27099\t50320\t50334\t50336\t50338\t50350\t51136\t61137\t61183\t61184\t8170\t15112\t50770\t8010\t8020\t8021\t8024\t8025\t8069\t8080\t8098\t8105\t8123\t8124\t8125\t8147\t8148\t8149\t8163\t8164\t8166\t15002\t15005\t23001\t23002\t23003\t23157\t27029\t27033\t27034\t27080\t27094\t27098\t50316\t50324\t50325\t50333\t50344\t50351\t50357\t50761\t50769\t50782\t50792\t50825\t50863\t50865\t50869\t50885\t50889\t50896\t50899\t50905\t51130\t51197\t51205\t51206\t51231\t51285\t51362\t61182\t61221\t61222\t15001\t27032\t27038\t27049\t27076\t50739\t50824\t50838\t50839\t50840\t50841\t51282\t61178\t16036\t16069\t16054'"
   ]
  },
  {
   "cell_type": "code",
   "execution_count": 7,
   "metadata": {
    "collapsed": true
   },
   "outputs": [],
   "source": [
    "food_code=food_code.split('\t')"
   ]
  },
  {
   "cell_type": "code",
   "execution_count": 8,
   "metadata": {},
   "outputs": [
    {
     "data": {
      "text/html": [
       "<div>\n",
       "<style>\n",
       "    .dataframe thead tr:only-child th {\n",
       "        text-align: right;\n",
       "    }\n",
       "\n",
       "    .dataframe thead th {\n",
       "        text-align: left;\n",
       "    }\n",
       "\n",
       "    .dataframe tbody tr th {\n",
       "        vertical-align: top;\n",
       "    }\n",
       "</style>\n",
       "<table border=\"1\" class=\"dataframe\">\n",
       "  <thead>\n",
       "    <tr style=\"text-align: right;\">\n",
       "      <th></th>\n",
       "      <th>NF_INTK</th>\n",
       "      <th>N_FCODE</th>\n",
       "      <th>N_FNAME</th>\n",
       "      <th>rage</th>\n",
       "      <th>sex</th>\n",
       "    </tr>\n",
       "  </thead>\n",
       "  <tbody>\n",
       "    <tr>\n",
       "      <th>0</th>\n",
       "      <td>6.681927</td>\n",
       "      <td>2001</td>\n",
       "      <td>감자, 생것</td>\n",
       "      <td>1</td>\n",
       "      <td>1</td>\n",
       "    </tr>\n",
       "    <tr>\n",
       "      <th>1</th>\n",
       "      <td>7.055135</td>\n",
       "      <td>2016</td>\n",
       "      <td>고구마, 생것</td>\n",
       "      <td>1</td>\n",
       "      <td>1</td>\n",
       "    </tr>\n",
       "    <tr>\n",
       "      <th>2</th>\n",
       "      <td>1.636146</td>\n",
       "      <td>5035</td>\n",
       "      <td>밤, 삶은것</td>\n",
       "      <td>1</td>\n",
       "      <td>1</td>\n",
       "    </tr>\n",
       "    <tr>\n",
       "      <th>3</th>\n",
       "      <td>2.657245</td>\n",
       "      <td>6096</td>\n",
       "      <td>당근, 뿌리, 생것</td>\n",
       "      <td>1</td>\n",
       "      <td>1</td>\n",
       "    </tr>\n",
       "    <tr>\n",
       "      <th>4</th>\n",
       "      <td>1.889928</td>\n",
       "      <td>6285</td>\n",
       "      <td>양파, 생것</td>\n",
       "      <td>1</td>\n",
       "      <td>1</td>\n",
       "    </tr>\n",
       "  </tbody>\n",
       "</table>\n",
       "</div>"
      ],
      "text/plain": [
       "    NF_INTK N_FCODE     N_FNAME  rage  sex\n",
       "0  6.681927    2001      감자, 생것     1    1\n",
       "1  7.055135    2016     고구마, 생것     1    1\n",
       "2  1.636146    5035      밤, 삶은것     1    1\n",
       "3  2.657245    6096  당근, 뿌리, 생것     1    1\n",
       "4  1.889928    6285      양파, 생것     1    1"
      ]
     },
     "execution_count": 8,
     "metadata": {},
     "output_type": "execute_result"
    }
   ],
   "source": [
    "food_data.head()"
   ]
  },
  {
   "cell_type": "code",
   "execution_count": 9,
   "metadata": {},
   "outputs": [
    {
     "data": {
      "text/plain": [
       "(1412532, 5)"
      ]
     },
     "execution_count": 9,
     "metadata": {},
     "output_type": "execute_result"
    }
   ],
   "source": [
    "food_data.shape"
   ]
  },
  {
   "cell_type": "markdown",
   "metadata": {},
   "source": [
    "과채가공품에 맞는 자료를 찾기위해 데이터프레임의 쿼리 메소드를 사용하였다. <br>\n",
    "Boolean 값이 나오는 식을 주면 해당하는 데이터만 찾아준다. 반복문으로 모든 자료를 새로운 데이터프레임에 추가하였다."
   ]
  },
  {
   "cell_type": "code",
   "execution_count": 10,
   "metadata": {
    "collapsed": true
   },
   "outputs": [],
   "source": [
    "food_df=food_data.query('N_FCODE==5004')"
   ]
  },
  {
   "cell_type": "code",
   "execution_count": 11,
   "metadata": {
    "collapsed": true
   },
   "outputs": [],
   "source": [
    "for i in food_code[1:]:\n",
    "    food_df=pd.concat([food_df,food_data.query('N_FCODE=='+i)])"
   ]
  },
  {
   "cell_type": "markdown",
   "metadata": {},
   "source": [
    "결과를 csv파일로 다시 저장하고 groupby를 사용하여, 연령대별, 성별 평균을 구하였다."
   ]
  },
  {
   "cell_type": "code",
   "execution_count": 12,
   "metadata": {
    "collapsed": true
   },
   "outputs": [],
   "source": [
    "food_df.to_csv('fruit.csv')"
   ]
  },
  {
   "cell_type": "code",
   "execution_count": 16,
   "metadata": {},
   "outputs": [
    {
     "data": {
      "text/html": [
       "<div>\n",
       "<style>\n",
       "    .dataframe thead tr:only-child th {\n",
       "        text-align: right;\n",
       "    }\n",
       "\n",
       "    .dataframe thead th {\n",
       "        text-align: left;\n",
       "    }\n",
       "\n",
       "    .dataframe tbody tr th {\n",
       "        vertical-align: top;\n",
       "    }\n",
       "</style>\n",
       "<table border=\"1\" class=\"dataframe\">\n",
       "  <thead>\n",
       "    <tr style=\"text-align: right;\">\n",
       "      <th></th>\n",
       "      <th></th>\n",
       "      <th>NF_INTK</th>\n",
       "    </tr>\n",
       "    <tr>\n",
       "      <th>rage</th>\n",
       "      <th>sex</th>\n",
       "      <th></th>\n",
       "    </tr>\n",
       "  </thead>\n",
       "  <tbody>\n",
       "    <tr>\n",
       "      <th rowspan=\"2\" valign=\"top\">1</th>\n",
       "      <th>1</th>\n",
       "      <td>74.119981</td>\n",
       "    </tr>\n",
       "    <tr>\n",
       "      <th>2</th>\n",
       "      <td>80.888543</td>\n",
       "    </tr>\n",
       "    <tr>\n",
       "      <th rowspan=\"2\" valign=\"top\">2</th>\n",
       "      <th>1</th>\n",
       "      <td>70.527279</td>\n",
       "    </tr>\n",
       "    <tr>\n",
       "      <th>2</th>\n",
       "      <td>66.393905</td>\n",
       "    </tr>\n",
       "    <tr>\n",
       "      <th rowspan=\"2\" valign=\"top\">3</th>\n",
       "      <th>1</th>\n",
       "      <td>68.613201</td>\n",
       "    </tr>\n",
       "    <tr>\n",
       "      <th>2</th>\n",
       "      <td>68.001154</td>\n",
       "    </tr>\n",
       "    <tr>\n",
       "      <th rowspan=\"2\" valign=\"top\">4</th>\n",
       "      <th>1</th>\n",
       "      <td>60.150424</td>\n",
       "    </tr>\n",
       "    <tr>\n",
       "      <th>2</th>\n",
       "      <td>60.906984</td>\n",
       "    </tr>\n",
       "    <tr>\n",
       "      <th rowspan=\"2\" valign=\"top\">5</th>\n",
       "      <th>1</th>\n",
       "      <td>74.630875</td>\n",
       "    </tr>\n",
       "    <tr>\n",
       "      <th>2</th>\n",
       "      <td>81.582401</td>\n",
       "    </tr>\n",
       "    <tr>\n",
       "      <th rowspan=\"2\" valign=\"top\">6</th>\n",
       "      <th>1</th>\n",
       "      <td>98.892556</td>\n",
       "    </tr>\n",
       "    <tr>\n",
       "      <th>2</th>\n",
       "      <td>75.611833</td>\n",
       "    </tr>\n",
       "    <tr>\n",
       "      <th rowspan=\"2\" valign=\"top\">7</th>\n",
       "      <th>1</th>\n",
       "      <td>57.807116</td>\n",
       "    </tr>\n",
       "    <tr>\n",
       "      <th>2</th>\n",
       "      <td>73.809580</td>\n",
       "    </tr>\n",
       "    <tr>\n",
       "      <th rowspan=\"2\" valign=\"top\">8</th>\n",
       "      <th>1</th>\n",
       "      <td>46.947791</td>\n",
       "    </tr>\n",
       "    <tr>\n",
       "      <th>2</th>\n",
       "      <td>39.423566</td>\n",
       "    </tr>\n",
       "    <tr>\n",
       "      <th rowspan=\"2\" valign=\"top\">9</th>\n",
       "      <th>1</th>\n",
       "      <td>37.214328</td>\n",
       "    </tr>\n",
       "    <tr>\n",
       "      <th>2</th>\n",
       "      <td>26.290218</td>\n",
       "    </tr>\n",
       "    <tr>\n",
       "      <th rowspan=\"2\" valign=\"top\">10</th>\n",
       "      <th>1</th>\n",
       "      <td>26.441259</td>\n",
       "    </tr>\n",
       "    <tr>\n",
       "      <th>2</th>\n",
       "      <td>27.219861</td>\n",
       "    </tr>\n",
       "    <tr>\n",
       "      <th rowspan=\"2\" valign=\"top\">11</th>\n",
       "      <th>1</th>\n",
       "      <td>25.884072</td>\n",
       "    </tr>\n",
       "    <tr>\n",
       "      <th>2</th>\n",
       "      <td>29.289448</td>\n",
       "    </tr>\n",
       "  </tbody>\n",
       "</table>\n",
       "</div>"
      ],
      "text/plain": [
       "            NF_INTK\n",
       "rage sex           \n",
       "1    1    74.119981\n",
       "     2    80.888543\n",
       "2    1    70.527279\n",
       "     2    66.393905\n",
       "3    1    68.613201\n",
       "     2    68.001154\n",
       "4    1    60.150424\n",
       "     2    60.906984\n",
       "5    1    74.630875\n",
       "     2    81.582401\n",
       "6    1    98.892556\n",
       "     2    75.611833\n",
       "7    1    57.807116\n",
       "     2    73.809580\n",
       "8    1    46.947791\n",
       "     2    39.423566\n",
       "9    1    37.214328\n",
       "     2    26.290218\n",
       "10   1    26.441259\n",
       "     2    27.219861\n",
       "11   1    25.884072\n",
       "     2    29.289448"
      ]
     },
     "execution_count": 16,
     "metadata": {},
     "output_type": "execute_result"
    }
   ],
   "source": [
    "food_df.groupby(['rage','sex']).mean()"
   ]
  },
  {
   "cell_type": "code",
   "execution_count": null,
   "metadata": {
    "collapsed": true
   },
   "outputs": [],
   "source": []
  }
 ],
 "metadata": {
  "kernelspec": {
   "display_name": "Python 3",
   "language": "python",
   "name": "python3"
  },
  "language_info": {
   "codemirror_mode": {
    "name": "ipython",
    "version": 3
   },
   "file_extension": ".py",
   "mimetype": "text/x-python",
   "name": "python",
   "nbconvert_exporter": "python",
   "pygments_lexer": "ipython3",
   "version": "3.6.3"
  }
 },
 "nbformat": 4,
 "nbformat_minor": 2
}
